{
 "cells": [
  {
   "cell_type": "markdown",
   "metadata": {},
   "source": [
    "## Text Splitter - RecursiveCharacter Text Splitters\n",
    "This text splitter is the recommended one for generic text. It is parameterized by a list of characters. It tries to split on them until chunks are small enough. The default list is [\"\\n\\n\",\"\\n\",\" \",\"\"]. This has the effect of trying to keep all paragraphs (and then sentences and then words) together as long as possible, as those would generically seem to be the strongest semantically related pieces of text\n",
    "- How list is split : by list of characters\n",
    "- How the chunk size is measured: by number of characters\n",
    "\n",
    "#### The splitter uses this list in a hierarchical manner:\n",
    "\n",
    "- First Pass: Try splitting by the first character in the list (\\n\\n).\n",
    "- Second Pass: If the resulting chunks are still too large, split by the next character (\\n).\n",
    "- Third Pass: If chunks are still too large, split by spaces ( ).\n",
    "- Final Pass: If no other options work, split at the character level (\"\")."
   ]
  },
  {
   "cell_type": "code",
   "execution_count": 1,
   "metadata": {},
   "outputs": [
    {
     "name": "stdout",
     "output_type": "stream",
     "text": [
      "['This is a paragraph.', 'It has multiple sentences.', \"Here is another paragraph. Let's split it.\"]\n"
     ]
    }
   ],
   "source": [
    "## Test Example\n",
    "from langchain.text_splitter import RecursiveCharacterTextSplitter\n",
    "\n",
    "text = \"This is a paragraph.\\n\\n It has multiple sentences.\\n Here is another paragraph. Let's split it.\"\n",
    "splitter = RecursiveCharacterTextSplitter(chunk_size=50, chunk_overlap=10)\n",
    "chunks = splitter.split_text(text)\n",
    "print(chunks)\n"
   ]
  },
  {
   "cell_type": "code",
   "execution_count": 2,
   "metadata": {},
   "outputs": [
    {
     "data": {
      "text/plain": [
       "[Document(metadata={'source': './../2-Data_Ingestion/Speech.pdf', 'page': 0}, page_content='Goodmorningdistinguishedguests, colleagues, andfriends,\\nIt isanhonortostandbeforeyoutodaytodiscussatopicthat isshapingthefutureofhumanity—Artificial Intelligence(AI). Aswenavigatethroughthefourthindustrial revolution,AI standsasbothabeaconof hopeandasubject of caution.\\nToday, I will coverthreecritical areas: thetransformativepotential of AI, theethicalconsiderationsit brings, andourcollectiveresponsibilityasstewardsof thispowerfultechnology.\\nLet usbeginbyreflectingonhowAI istransformingindustries. Fromhealthcaretoagriculture, AI isenablingunprecedentedadvancements. Forinstance, AI-drivendiagnostictoolsaredetectingdiseasesearlierthaneverbefore, savingcountlesslives. Inagriculture,AI-poweredanalyticsarehelpingfarmersoptimizecropyieldswhileminimizingenvironmental impact. Thesearejust afewexamplesof howAI isdrivingprogress.\\nHowever, wemust alsoacknowledgethechallengesahead. Therapidpaceof AI adoptionraisesquestionsabout dataprivacy, algorithmictransparency, andequitableaccesstotechnology.'),\n",
       " Document(metadata={'source': './../2-Data_Ingestion/Speech.pdf', 'page': 1}, page_content='Now, let usdelveintotheethical dimensionsof artificial intelligence.\\nAt itscore, AI operatesbasedondata—datathat isoftencollectedfromindividualswithouttheirexplicit consent. Thisbringsustothepressingissueof privacy. Howdowebalancethebenefitsof AI withthefundamental right toprivacy?Thisisaquestionthat demandstheattentionof policymakers, technologists, andsocietyat large.\\nFurthermore, thereistheissueof biasinAI algorithms. Thesesystemslearnfromhistoricaldata, whichmayreflect societal inequalities. Forexample, biasedhiringalgorithmshavebeenshowntodisadvantagecertaingroups. Addressingthesebiasesisnot merelyatechnical challengebut amoral imperative.\\nEquallyimportant isthedisplacement of jobscausedbyautomation. WhileAI createsnewopportunities, it alsodisruptstraditional industries. Wemust ensurethat theworkforceispreparedforthistransitionthroughreskillingprogramsandeducation.'),\n",
       " Document(metadata={'source': './../2-Data_Ingestion/Speech.pdf', 'page': 2}, page_content='Finally, let usconsiderourcollectiveresponsibilityinshapingthefutureof AI.\\nThedevelopment of AI cannot beleft solelyinthehandsof technologistsorcorporations. Itrequiresacollaborativeeffort involvinggovernments, academia, civil society, andindividuals.Ethical guidelines, regulatoryframeworks, andpublicawarenessareessential toensureAIisdeployedforthebenefit of humanity.\\nWealsoneedtoinvest inresearchthat prioritizesthepublicgood. Forexample, AI canplayapivotal roleinaddressingclimatechangebyoptimizingenergyconsumptionandmonitoringenvironmental changesinreal-time.\\nAswelooktothefuture, let usrememberthat technologyisatool—ameanstoanend. Thetruemeasureof progressliesinhowwell weuseAI toimprovethequalityof lifeforall,particularlythemost vulnerableinsociety.\\nLet usmoveforwardwithasharedvisionof ethical, inclusive, andsustainableAI. Together,wecancreateafuturewheretechnologyandhumanitythriveinharmony.\\nThankyou.')]"
      ]
     },
     "execution_count": 2,
     "metadata": {},
     "output_type": "execute_result"
    }
   ],
   "source": [
    "from langchain_community.document_loaders import PyPDFLoader\n",
    "\n",
    "loader = PyPDFLoader(\"./../2-Data_Ingestion/Speech.pdf\")\n",
    "\n",
    "docs = loader.load()\n",
    "\n",
    "docs"
   ]
  },
  {
   "cell_type": "code",
   "execution_count": 29,
   "metadata": {},
   "outputs": [
    {
     "data": {
      "text/plain": [
       "[Document(metadata={'source': './../2-Data_Ingestion/Speech.pdf', 'page': 0}, page_content='Goodmorningdistinguishedguests, colleagues, andfriends,\\nIt isanhonortostandbeforeyoutodaytodiscussatopicthat isshapingthefutureofhumanity—Artificial Intelligence(AI). Aswenavigatethroughthefourthindustrial revolution,AI standsasbothabeaconof hopeandasubject of caution.\\nToday, I will coverthreecritical areas: thetransformativepotential of AI, theethicalconsiderationsit brings, andourcollectiveresponsibilityasstewardsof thispowerfultechnology.'),\n",
       " Document(metadata={'source': './../2-Data_Ingestion/Speech.pdf', 'page': 0}, page_content='Let usbeginbyreflectingonhowAI istransformingindustries. Fromhealthcaretoagriculture, AI isenablingunprecedentedadvancements. Forinstance, AI-drivendiagnostictoolsaredetectingdiseasesearlierthaneverbefore, savingcountlesslives. Inagriculture,AI-poweredanalyticsarehelpingfarmersoptimizecropyieldswhileminimizingenvironmental impact. Thesearejust afewexamplesof howAI isdrivingprogress.'),\n",
       " Document(metadata={'source': './../2-Data_Ingestion/Speech.pdf', 'page': 0}, page_content='However, wemust alsoacknowledgethechallengesahead. Therapidpaceof AI adoptionraisesquestionsabout dataprivacy, algorithmictransparency, andequitableaccesstotechnology.'),\n",
       " Document(metadata={'source': './../2-Data_Ingestion/Speech.pdf', 'page': 1}, page_content='Now, let usdelveintotheethical dimensionsof artificial intelligence.\\nAt itscore, AI operatesbasedondata—datathat isoftencollectedfromindividualswithouttheirexplicit consent. Thisbringsustothepressingissueof privacy. Howdowebalancethebenefitsof AI withthefundamental right toprivacy?Thisisaquestionthat demandstheattentionof policymakers, technologists, andsocietyat large.'),\n",
       " Document(metadata={'source': './../2-Data_Ingestion/Speech.pdf', 'page': 1}, page_content='Furthermore, thereistheissueof biasinAI algorithms. Thesesystemslearnfromhistoricaldata, whichmayreflect societal inequalities. Forexample, biasedhiringalgorithmshavebeenshowntodisadvantagecertaingroups. Addressingthesebiasesisnot merelyatechnical challengebut amoral imperative.'),\n",
       " Document(metadata={'source': './../2-Data_Ingestion/Speech.pdf', 'page': 1}, page_content='Equallyimportant isthedisplacement of jobscausedbyautomation. WhileAI createsnewopportunities, it alsodisruptstraditional industries. Wemust ensurethat theworkforceispreparedforthistransitionthroughreskillingprogramsandeducation.'),\n",
       " Document(metadata={'source': './../2-Data_Ingestion/Speech.pdf', 'page': 2}, page_content='Finally, let usconsiderourcollectiveresponsibilityinshapingthefutureof AI.\\nThedevelopment of AI cannot beleft solelyinthehandsof technologistsorcorporations. Itrequiresacollaborativeeffort involvinggovernments, academia, civil society, andindividuals.Ethical guidelines, regulatoryframeworks, andpublicawarenessareessential toensureAIisdeployedforthebenefit of humanity.'),\n",
       " Document(metadata={'source': './../2-Data_Ingestion/Speech.pdf', 'page': 2}, page_content='Wealsoneedtoinvest inresearchthat prioritizesthepublicgood. Forexample, AI canplayapivotal roleinaddressingclimatechangebyoptimizingenergyconsumptionandmonitoringenvironmental changesinreal-time.\\nAswelooktothefuture, let usrememberthat technologyisatool—ameanstoanend. Thetruemeasureof progressliesinhowwell weuseAI toimprovethequalityof lifeforall,particularlythemost vulnerableinsociety.'),\n",
       " Document(metadata={'source': './../2-Data_Ingestion/Speech.pdf', 'page': 2}, page_content='Let usmoveforwardwithasharedvisionof ethical, inclusive, andsustainableAI. Together,wecancreateafuturewheretechnologyandhumanitythriveinharmony.\\nThankyou.')]"
      ]
     },
     "execution_count": 29,
     "metadata": {},
     "output_type": "execute_result"
    }
   ],
   "source": [
    "from langchain.text_splitter import RecursiveCharacterTextSplitter\n",
    "\n",
    "text_splitter = RecursiveCharacterTextSplitter(chunk_size=500, chunk_overlap=10)\n",
    "\n",
    "final_doc = text_splitter.split_documents(docs)\n",
    "\n",
    "final_doc"
   ]
  },
  {
   "cell_type": "code",
   "execution_count": 7,
   "metadata": {},
   "outputs": [
    {
     "name": "stdout",
     "output_type": "stream",
     "text": [
      "page_content='Goodmorningdistinguishedguests, colleagues, andfriends,\n",
      "It isanhonortostandbeforeyoutodaytodiscussatopicthat isshapingthefutureofhumanity—Artificial Intelligence(AI). Aswenavigatethroughthefourthindustrial revolution,AI standsasbothabeaconof hopeandasubject of caution.\n",
      "Today, I will coverthreecritical areas: thetransformativepotential of AI, theethicalconsiderationsit brings, andourcollectiveresponsibilityasstewardsof thispowerfultechnology.' metadata={'source': './../2-Data_Ingestion/Speech.pdf', 'page': 0}\n"
     ]
    }
   ],
   "source": [
    "print(final_doc[0])"
   ]
  },
  {
   "cell_type": "code",
   "execution_count": 8,
   "metadata": {},
   "outputs": [
    {
     "name": "stdout",
     "output_type": "stream",
     "text": [
      "page_content='Let usbeginbyreflectingonhowAI istransformingindustries. Fromhealthcaretoagriculture, AI isenablingunprecedentedadvancements. Forinstance, AI-drivendiagnostictoolsaredetectingdiseasesearlierthaneverbefore, savingcountlesslives. Inagriculture,AI-poweredanalyticsarehelpingfarmersoptimizecropyieldswhileminimizingenvironmental impact. Thesearejust afewexamplesof howAI isdrivingprogress.\n",
      "However, wemust alsoacknowledgethechallengesahead. Therapidpaceof AI adoptionraisesquestionsabout dataprivacy, algorithmictransparency, andequitableaccesstotechnology.' metadata={'source': './../2-Data_Ingestion/Speech.pdf', 'page': 0}\n"
     ]
    }
   ],
   "source": [
    "print(final_doc[1])"
   ]
  },
  {
   "cell_type": "markdown",
   "metadata": {},
   "source": [
    "## How to split by character-character text splitter\n",
    "This is the simplest method. This splits based on a given character sequence, which is defaults to \"\\n\\n\". Chunk lenght is measured by number of characters\n",
    "- How list is split : by single characters seperater\n",
    "- How the chunk size is measured: by number of characters"
   ]
  },
  {
   "cell_type": "code",
   "execution_count": 30,
   "metadata": {},
   "outputs": [
    {
     "name": "stdout",
     "output_type": "stream",
     "text": [
      "['This is a', 'paragraph.', 'It has', 'multiple', 'sentences.', 'Here is', 'is another', 'paragraph.', \"Let's\", 'split it.']\n"
     ]
    }
   ],
   "source": [
    "## Test Example\n",
    "from langchain.text_splitter import CharacterTextSplitter\n",
    "\n",
    "text = \"This is a paragraph. It has multiple sentences. \\n Here is another paragraph. Let's split it.\"\n",
    "splitter = CharacterTextSplitter(separator=\" \",chunk_size=10, chunk_overlap=10)\n",
    "chunks = splitter.split_text(text)\n",
    "print(chunks)\n"
   ]
  },
  {
   "cell_type": "code",
   "execution_count": 3,
   "metadata": {},
   "outputs": [
    {
     "name": "stdout",
     "output_type": "stream",
     "text": [
      "['This is a paragraph. It has multiple sentences.', \"Here is another paragraph. Let's split it.\"]\n"
     ]
    }
   ],
   "source": [
    "## Test Example\n",
    "from langchain.text_splitter import CharacterTextSplitter\n",
    "\n",
    "text = \"This is a paragraph. It has multiple sentences. \\n Here is another paragraph. Let's split it.\"\n",
    "splitter = CharacterTextSplitter(separator=\"\\n\",chunk_size=50, chunk_overlap=10)\n",
    "chunks = splitter.split_text(text)\n",
    "print(chunks)\n"
   ]
  },
  {
   "cell_type": "code",
   "execution_count": null,
   "metadata": {},
   "outputs": [],
   "source": []
  }
 ],
 "metadata": {
  "kernelspec": {
   "display_name": "myenv",
   "language": "python",
   "name": "python3"
  },
  "language_info": {
   "codemirror_mode": {
    "name": "ipython",
    "version": 3
   },
   "file_extension": ".py",
   "mimetype": "text/x-python",
   "name": "python",
   "nbconvert_exporter": "python",
   "pygments_lexer": "ipython3",
   "version": "3.10.16"
  }
 },
 "nbformat": 4,
 "nbformat_minor": 2
}
