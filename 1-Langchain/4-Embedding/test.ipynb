{
 "cells": [
  {
   "cell_type": "code",
   "execution_count": 3,
   "metadata": {},
   "outputs": [
    {
     "name": "stderr",
     "output_type": "stream",
     "text": [
      "Created a chunk of size 303, which is longer than the specified 300\n"
     ]
    },
    {
     "name": "stdout",
     "output_type": "stream",
     "text": [
      "Search Results with Scores:\n",
      "1. Text: This vibrant city is known for its rich history, iconic landmarks like the Gateway of India, Marine Drive, and Chhatrapati Shivaji Maharaj Terminus, a UNESCO World Heritage Site. The bustling streets, local trains, and the delicious street food reflect the spirit of the city – fast-paced yet welcoming.\n",
      "   Similarity Score: 0.2791742980480194\n",
      "2. Text: This vibrant city is known for its rich history, iconic landmarks like the Gateway of India, Marine Drive, and Chhatrapati Shivaji Maharaj Terminus, a UNESCO World Heritage Site. The bustling streets, local trains, and the delicious street food reflect the spirit of the city – fast-paced yet welcoming.\n",
      "   Similarity Score: 0.2791742980480194\n",
      "3. Text: This vibrant city is known for its rich history, iconic landmarks like the Gateway of India, Marine Drive, and Chhatrapati Shivaji Maharaj Terminus, a UNESCO World Heritage Site. The bustling streets, local trains, and the delicious street food reflect the spirit of the city – fast-paced yet welcoming.\n",
      "   Similarity Score: 0.2791742980480194\n",
      "4. Text: Mumbai is the financial capital of India, home to the Bombay Stock Exchange, Reserve Bank of India, and many multinational corporations. It is also the heart of India’s film industry, Bollywood, which has gained global recognition.\n",
      "   Similarity Score: 0.33071786165237427\n"
     ]
    }
   ],
   "source": [
    "from langchain.document_loaders import TextLoader\n",
    "from langchain.text_splitter import CharacterTextSplitter\n",
    "from langchain_openai.embeddings import OpenAIEmbeddings  # Updated import\n",
    "from langchain.vectorstores import Chroma\n",
    "\n",
    "from dotenv import load_dotenv\n",
    "import os\n",
    "load_dotenv()\n",
    "\n",
    "LANGCHAIN_API_KEY = os.getenv('LANGCHAIN_API_KEY')  # or os.environ['API_KEY']\n",
    "LANGCHAIN_PROJECT = os.getenv('LANGCHAIN_PROJECT')\n",
    "OPENAI_API_KEY = os.getenv('OPENAI_API_KEY')\n",
    "\n",
    "# Store your speech in a text file\n",
    "speech_text = \"\"\"Mumbai – The City of Dreams\n",
    "\n",
    "Good morning everyone,\n",
    "\n",
    "Today, I want to talk about Mumbai, a city that never sleeps and is often called the \"City of Dreams.\" Located on the western coast of India, Mumbai is not just a city; it’s an emotion for millions of people.\n",
    "\n",
    "Mumbai is the financial capital of India, home to the Bombay Stock Exchange, Reserve Bank of India, and many multinational corporations. It is also the heart of India’s film industry, Bollywood, which has gained global recognition.\n",
    "\n",
    "This vibrant city is known for its rich history, iconic landmarks like the Gateway of India, Marine Drive, and Chhatrapati Shivaji Maharaj Terminus, a UNESCO World Heritage Site. The bustling streets, local trains, and the delicious street food reflect the spirit of the city – fast-paced yet welcoming.\n",
    "\n",
    "Mumbai is a melting pot of cultures, with people from all over the country living here. It celebrates diversity through festivals like Ganesh Chaturthi, Eid, Christmas, and more. Despite its challenges, such as overcrowding and monsoons, the resilience of Mumbai's people is truly remarkable.\n",
    "\n",
    "The city’s energy, opportunities, and sense of belonging make it a dream destination for many. As the saying goes, “If you can survive in Mumbai, you can survive anywhere in the world.”\n",
    "\n",
    "Thank you!\n",
    "\"\"\"\n",
    "# Save speech as a text file\n",
    "with open(\"speech.txt\", \"w\") as file:\n",
    "    file.write(speech_text)\n",
    "\n",
    "# Load the text file\n",
    "loader = TextLoader(\"speech.txt\")\n",
    "documents = loader.load()\n",
    "\n",
    "# Split the text into chunks\n",
    "text_splitter = CharacterTextSplitter(chunk_size=300, chunk_overlap=50)\n",
    "texts = text_splitter.split_documents(documents)\n",
    "\n",
    "# Generate embeddings\n",
    "embeddings = OpenAIEmbeddings()  # Updated embeddings\n",
    "vector_db = Chroma.from_documents(texts, embeddings)\n",
    "\n",
    "# Perform similarity search with scores\n",
    "query = \"What are the iconic landmarks in Mumbai?\"\n",
    "results_with_scores = vector_db.similarity_search_with_score(query)\n",
    "\n",
    "# Display results with scores\n",
    "print(\"Search Results with Scores:\")\n",
    "for i, (result, score) in enumerate(results_with_scores, 1):\n",
    "    print(f\"{i}. Text: {result.page_content}\")\n",
    "    print(f\"   Similarity Score: {score}\")\n"
   ]
  },
  {
   "cell_type": "code",
   "execution_count": null,
   "metadata": {},
   "outputs": [],
   "source": []
  }
 ],
 "metadata": {
  "kernelspec": {
   "display_name": "myenv_new",
   "language": "python",
   "name": "python3"
  },
  "language_info": {
   "codemirror_mode": {
    "name": "ipython",
    "version": 3
   },
   "file_extension": ".py",
   "mimetype": "text/x-python",
   "name": "python",
   "nbconvert_exporter": "python",
   "pygments_lexer": "ipython3",
   "version": "3.10.16"
  }
 },
 "nbformat": 4,
 "nbformat_minor": 2
}
