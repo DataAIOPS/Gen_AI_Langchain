{
 "cells": [
  {
   "cell_type": "markdown",
   "metadata": {},
   "source": [
    "## Chroma\n",
    "Chroma is a AI-native open source vector database focused on developer productivity and happiness. Chroma is licensed under Apache2.0"
   ]
  },
  {
   "cell_type": "code",
   "execution_count": 2,
   "metadata": {},
   "outputs": [],
   "source": [
    "from langchain_chroma import Chroma\n",
    "from langchain_community.document_loaders import TextLoader\n",
    "from langchain_community.embeddings import OllamaEmbeddings\n",
    "from langchain_text_splitters import RecursiveCharacterTextSplitter"
   ]
  },
  {
   "cell_type": "code",
   "execution_count": 4,
   "metadata": {},
   "outputs": [
    {
     "data": {
      "text/plain": [
       "[Document(metadata={'source': './../4-Embedding/Speech1.txt'}, page_content='Mumbai – The City of Dreams\\n\\nGood morning everyone,\\n\\nToday, I want to talk about Mumbai, a city that never sleeps and is often called the \"City of Dreams.\" Located on the western coast of India, Mumbai is not just a city; it’s an emotion for millions of people.\\n\\nMumbai is the financial capital of India, home to the Bombay Stock Exchange, Reserve Bank of India, and many multinational corporations. It is also the heart of India’s film industry, Bollywood, which has gained global recognition.\\n\\nThis vibrant city is known for its rich history, iconic landmarks like the Gateway of India, Marine Drive, and Chhatrapati Shivaji Maharaj Terminus, a UNESCO World Heritage Site. The bustling streets, local trains, and the delicious street food reflect the spirit of the city – fast-paced yet welcoming.\\n\\nMumbai is a melting pot of cultures, with people from all over the country living here. It celebrates diversity through festivals like Ganesh Chaturthi, Eid, Christmas, and more. Despite its challenges, such as overcrowding and monsoons, the resilience of Mumbai\\'s people is truly remarkable.\\n\\nThe city’s energy, opportunities, and sense of belonging make it a dream destination for many. As the saying goes, “If you can survive in Mumbai, you can survive anywhere in the world.”\\n\\nThank you!\\n')]"
      ]
     },
     "execution_count": 4,
     "metadata": {},
     "output_type": "execute_result"
    }
   ],
   "source": [
    "loader = TextLoader(\"./../4-Embedding/Speech1.txt\")\n",
    "documents = loader.load()\n",
    "documents"
   ]
  },
  {
   "cell_type": "code",
   "execution_count": 10,
   "metadata": {},
   "outputs": [],
   "source": [
    "text_splitter = RecursiveCharacterTextSplitter(chunk_size=100, chunk_overlap=10)\n",
    "docs = text_splitter.split_documents(documents)"
   ]
  },
  {
   "cell_type": "code",
   "execution_count": 11,
   "metadata": {},
   "outputs": [],
   "source": [
    "embeddings = OllamaEmbeddings(model=\"gemma:2b\")\n",
    "db = Chroma.from_documents(docs,embeddings)"
   ]
  },
  {
   "cell_type": "code",
   "execution_count": 12,
   "metadata": {},
   "outputs": [
    {
     "data": {
      "text/plain": [
       "[Document(id='5c641a29-3a99-4043-a64e-2c41135c8a3e', metadata={'source': './../4-Embedding/Speech1.txt'}, page_content='which has gained global recognition.'),\n",
       " Document(id='18b457ec-b50c-4556-a8bd-d83908012432', metadata={'source': './../4-Embedding/Speech1.txt'}, page_content='here. It celebrates diversity through festivals like Ganesh Chaturthi, Eid, Christmas, and more.'),\n",
       " Document(id='508dbbcd-0fef-43ee-9992-9047b3b7a325', metadata={'source': './../4-Embedding/Speech1.txt'}, page_content='industry, Bollywood, which has gained global recognition.'),\n",
       " Document(id='9f50f472-bcf5-4328-a7c0-a8683276dd85', metadata={'source': './../4-Embedding/Speech1.txt'}, page_content='many. As the saying goes, “If you can survive in Mumbai, you can survive anywhere in the world.”')]"
      ]
     },
     "execution_count": 12,
     "metadata": {},
     "output_type": "execute_result"
    }
   ],
   "source": [
    "query = \"Which city is 'City of Dreams'?\"\n",
    "results = db.similarity_search(query)\n",
    "results"
   ]
  },
  {
   "cell_type": "code",
   "execution_count": 13,
   "metadata": {},
   "outputs": [],
   "source": [
    "## saving the db to disk\n",
    "vectordb = Chroma.from_documents(documents=docs,embedding=embeddings,persist_directory=\"./chroma_db\")"
   ]
  },
  {
   "cell_type": "code",
   "execution_count": 14,
   "metadata": {},
   "outputs": [],
   "source": [
    "load_vectordb = Chroma(persist_directory=\"./chroma_db\",embedding_function=embeddings)"
   ]
  },
  {
   "cell_type": "code",
   "execution_count": 17,
   "metadata": {},
   "outputs": [
    {
     "data": {
      "text/plain": [
       "[Document(id='a10e560b-533c-4bf9-a44d-7bd7525c5a1b', metadata={'source': './../4-Embedding/Speech1.txt'}, page_content='here. It celebrates diversity through festivals like Ganesh Chaturthi, Eid, Christmas, and more.'),\n",
       " Document(id='d40f985f-c48a-4062-8e5c-fae17128f440', metadata={'source': './../4-Embedding/Speech1.txt'}, page_content='industry, Bollywood, which has gained global recognition.'),\n",
       " Document(id='83413fa9-6b1f-4ea8-8a52-87203e72f34f', metadata={'source': './../4-Embedding/Speech1.txt'}, page_content='many. As the saying goes, “If you can survive in Mumbai, you can survive anywhere in the world.”'),\n",
       " Document(id='4608207b-bc7d-4583-8910-37ba7d04bfb8', metadata={'source': './../4-Embedding/Speech1.txt'}, page_content=\"Mumbai's people is truly remarkable.\")]"
      ]
     },
     "execution_count": 17,
     "metadata": {},
     "output_type": "execute_result"
    }
   ],
   "source": [
    "docs = load_vectordb.similarity_search(query)\n",
    "docs"
   ]
  },
  {
   "cell_type": "code",
   "execution_count": 18,
   "metadata": {},
   "outputs": [
    {
     "data": {
      "text/plain": [
       "[(Document(id='a10e560b-533c-4bf9-a44d-7bd7525c5a1b', metadata={'source': './../4-Embedding/Speech1.txt'}, page_content='here. It celebrates diversity through festivals like Ganesh Chaturthi, Eid, Christmas, and more.'),\n",
       "  3386.170577692207),\n",
       " (Document(id='d40f985f-c48a-4062-8e5c-fae17128f440', metadata={'source': './../4-Embedding/Speech1.txt'}, page_content='industry, Bollywood, which has gained global recognition.'),\n",
       "  3390.410173522467),\n",
       " (Document(id='83413fa9-6b1f-4ea8-8a52-87203e72f34f', metadata={'source': './../4-Embedding/Speech1.txt'}, page_content='many. As the saying goes, “If you can survive in Mumbai, you can survive anywhere in the world.”'),\n",
       "  3416.641086481131),\n",
       " (Document(id='4608207b-bc7d-4583-8910-37ba7d04bfb8', metadata={'source': './../4-Embedding/Speech1.txt'}, page_content=\"Mumbai's people is truly remarkable.\"),\n",
       "  3999.363238453671)]"
      ]
     },
     "execution_count": 18,
     "metadata": {},
     "output_type": "execute_result"
    }
   ],
   "source": [
    "docs = load_vectordb.similarity_search_with_score(query)\n",
    "docs"
   ]
  },
  {
   "cell_type": "markdown",
   "metadata": {},
   "source": [
    "## As a Retriver"
   ]
  },
  {
   "cell_type": "code",
   "execution_count": 21,
   "metadata": {},
   "outputs": [
    {
     "data": {
      "text/plain": [
       "[Document(id='a10e560b-533c-4bf9-a44d-7bd7525c5a1b', metadata={'source': './../4-Embedding/Speech1.txt'}, page_content='here. It celebrates diversity through festivals like Ganesh Chaturthi, Eid, Christmas, and more.'),\n",
       " Document(id='d40f985f-c48a-4062-8e5c-fae17128f440', metadata={'source': './../4-Embedding/Speech1.txt'}, page_content='industry, Bollywood, which has gained global recognition.'),\n",
       " Document(id='83413fa9-6b1f-4ea8-8a52-87203e72f34f', metadata={'source': './../4-Embedding/Speech1.txt'}, page_content='many. As the saying goes, “If you can survive in Mumbai, you can survive anywhere in the world.”'),\n",
       " Document(id='4608207b-bc7d-4583-8910-37ba7d04bfb8', metadata={'source': './../4-Embedding/Speech1.txt'}, page_content=\"Mumbai's people is truly remarkable.\")]"
      ]
     },
     "execution_count": 21,
     "metadata": {},
     "output_type": "execute_result"
    }
   ],
   "source": [
    "retriver = load_vectordb.as_retriever()\n",
    "retriver.invoke(query)"
   ]
  },
  {
   "cell_type": "markdown",
   "metadata": {},
   "source": []
  },
  {
   "cell_type": "code",
   "execution_count": null,
   "metadata": {},
   "outputs": [],
   "source": []
  }
 ],
 "metadata": {
  "kernelspec": {
   "display_name": "myenv_new",
   "language": "python",
   "name": "python3"
  },
  "language_info": {
   "codemirror_mode": {
    "name": "ipython",
    "version": 3
   },
   "file_extension": ".py",
   "mimetype": "text/x-python",
   "name": "python",
   "nbconvert_exporter": "python",
   "pygments_lexer": "ipython3",
   "version": "3.10.16"
  }
 },
 "nbformat": 4,
 "nbformat_minor": 2
}
