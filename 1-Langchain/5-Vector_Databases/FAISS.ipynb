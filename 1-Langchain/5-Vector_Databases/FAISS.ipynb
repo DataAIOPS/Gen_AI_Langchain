{
 "cells": [
  {
   "cell_type": "markdown",
   "metadata": {},
   "source": [
    "## FAISS\n",
    "Facebook AI Similarity Search (FAISS) is a library for efficient similarity search and clustering of dense vectors."
   ]
  },
  {
   "cell_type": "code",
   "execution_count": 7,
   "metadata": {},
   "outputs": [
    {
     "name": "stderr",
     "output_type": "stream",
     "text": [
      "Created a chunk of size 208, which is longer than the specified 100\n",
      "Created a chunk of size 231, which is longer than the specified 100\n",
      "Created a chunk of size 303, which is longer than the specified 100\n",
      "Created a chunk of size 292, which is longer than the specified 100\n",
      "Created a chunk of size 185, which is longer than the specified 100\n"
     ]
    }
   ],
   "source": [
    "from langchain_community.document_loaders import TextLoader\n",
    "from langchain_community.vectorstores import FAISS\n",
    "from langchain_community.embeddings import OllamaEmbeddings\n",
    "from langchain_text_splitters import CharacterTextSplitter\n",
    "\n",
    "loader = TextLoader(\"./../4-Embedding/Speech1.txt\")\n",
    "documents = loader.load()\n",
    "\n",
    "text_splitter = CharacterTextSplitter(chunk_size=100, chunk_overlap=10)\n",
    "docs = text_splitter.split_documents(documents)"
   ]
  },
  {
   "cell_type": "code",
   "execution_count": 8,
   "metadata": {},
   "outputs": [
    {
     "data": {
      "text/plain": [
       "[Document(metadata={'source': './../4-Embedding/Speech1.txt'}, page_content='Mumbai – The City of Dreams\\n\\nGood morning everyone,'),\n",
       " Document(metadata={'source': './../4-Embedding/Speech1.txt'}, page_content='Today, I want to talk about Mumbai, a city that never sleeps and is often called the \"City of Dreams.\" Located on the western coast of India, Mumbai is not just a city; it’s an emotion for millions of people.'),\n",
       " Document(metadata={'source': './../4-Embedding/Speech1.txt'}, page_content='Mumbai is the financial capital of India, home to the Bombay Stock Exchange, Reserve Bank of India, and many multinational corporations. It is also the heart of India’s film industry, Bollywood, which has gained global recognition.'),\n",
       " Document(metadata={'source': './../4-Embedding/Speech1.txt'}, page_content='This vibrant city is known for its rich history, iconic landmarks like the Gateway of India, Marine Drive, and Chhatrapati Shivaji Maharaj Terminus, a UNESCO World Heritage Site. The bustling streets, local trains, and the delicious street food reflect the spirit of the city – fast-paced yet welcoming.'),\n",
       " Document(metadata={'source': './../4-Embedding/Speech1.txt'}, page_content=\"Mumbai is a melting pot of cultures, with people from all over the country living here. It celebrates diversity through festivals like Ganesh Chaturthi, Eid, Christmas, and more. Despite its challenges, such as overcrowding and monsoons, the resilience of Mumbai's people is truly remarkable.\"),\n",
       " Document(metadata={'source': './../4-Embedding/Speech1.txt'}, page_content='The city’s energy, opportunities, and sense of belonging make it a dream destination for many. As the saying goes, “If you can survive in Mumbai, you can survive anywhere in the world.”'),\n",
       " Document(metadata={'source': './../4-Embedding/Speech1.txt'}, page_content='Thank you!')]"
      ]
     },
     "execution_count": 8,
     "metadata": {},
     "output_type": "execute_result"
    }
   ],
   "source": [
    "docs"
   ]
  },
  {
   "cell_type": "code",
   "execution_count": 9,
   "metadata": {},
   "outputs": [],
   "source": [
    "embeddings = (OllamaEmbeddings(model=\"gemma:2b\"))\n",
    "db = FAISS.from_documents(docs, embeddings)"
   ]
  },
  {
   "cell_type": "code",
   "execution_count": 16,
   "metadata": {},
   "outputs": [
    {
     "data": {
      "text/plain": [
       "[Document(id='dc7835ef-156c-412f-a376-57bc1812ebc2', metadata={'source': './../4-Embedding/Speech1.txt'}, page_content='Mumbai is the financial capital of India, home to the Bombay Stock Exchange, Reserve Bank of India, and many multinational corporations. It is also the heart of India’s film industry, Bollywood, which has gained global recognition.'),\n",
       " Document(id='12ba1b97-c1c7-4ef9-8e9d-18afddcb8f8b', metadata={'source': './../4-Embedding/Speech1.txt'}, page_content='The city’s energy, opportunities, and sense of belonging make it a dream destination for many. As the saying goes, “If you can survive in Mumbai, you can survive anywhere in the world.”'),\n",
       " Document(id='9d88bf81-a373-49c3-9565-10a5d92f55d5', metadata={'source': './../4-Embedding/Speech1.txt'}, page_content='Today, I want to talk about Mumbai, a city that never sleeps and is often called the \"City of Dreams.\" Located on the western coast of India, Mumbai is not just a city; it’s an emotion for millions of people.'),\n",
       " Document(id='3ba743c3-0d54-4a26-9832-3456e1161061', metadata={'source': './../4-Embedding/Speech1.txt'}, page_content='This vibrant city is known for its rich history, iconic landmarks like the Gateway of India, Marine Drive, and Chhatrapati Shivaji Maharaj Terminus, a UNESCO World Heritage Site. The bustling streets, local trains, and the delicious street food reflect the spirit of the city – fast-paced yet welcoming.')]"
      ]
     },
     "execution_count": 16,
     "metadata": {},
     "output_type": "execute_result"
    }
   ],
   "source": [
    "query = \"Which city is 'City of Dreams'?\"\n",
    "results = db.similarity_search(query)\n",
    "results"
   ]
  },
  {
   "cell_type": "code",
   "execution_count": 11,
   "metadata": {},
   "outputs": [
    {
     "data": {
      "text/plain": [
       "[Document(id='dc7835ef-156c-412f-a376-57bc1812ebc2', metadata={'source': './../4-Embedding/Speech1.txt'}, page_content='Mumbai is the financial capital of India, home to the Bombay Stock Exchange, Reserve Bank of India, and many multinational corporations. It is also the heart of India’s film industry, Bollywood, which has gained global recognition.'),\n",
       " Document(id='824f1854-7bba-4d66-bae9-558e4c880da1', metadata={'source': './../4-Embedding/Speech1.txt'}, page_content=\"Mumbai is a melting pot of cultures, with people from all over the country living here. It celebrates diversity through festivals like Ganesh Chaturthi, Eid, Christmas, and more. Despite its challenges, such as overcrowding and monsoons, the resilience of Mumbai's people is truly remarkable.\"),\n",
       " Document(id='12ba1b97-c1c7-4ef9-8e9d-18afddcb8f8b', metadata={'source': './../4-Embedding/Speech1.txt'}, page_content='The city’s energy, opportunities, and sense of belonging make it a dream destination for many. As the saying goes, “If you can survive in Mumbai, you can survive anywhere in the world.”'),\n",
       " Document(id='9d88bf81-a373-49c3-9565-10a5d92f55d5', metadata={'source': './../4-Embedding/Speech1.txt'}, page_content='Today, I want to talk about Mumbai, a city that never sleeps and is often called the \"City of Dreams.\" Located on the western coast of India, Mumbai is not just a city; it’s an emotion for millions of people.')]"
      ]
     },
     "execution_count": 11,
     "metadata": {},
     "output_type": "execute_result"
    }
   ],
   "source": [
    "query = \"Where is heart of India’s film industry, Bollywood?\"\n",
    "results = db.similarity_search(query)\n",
    "results"
   ]
  },
  {
   "cell_type": "markdown",
   "metadata": {},
   "source": [
    "## As a Retriver\n",
    "We can also convert the vectorstore in to a Retriver class. This allow us to easily use it in other langchain moethods, whichi largerly work with retrivers"
   ]
  },
  {
   "cell_type": "code",
   "execution_count": 13,
   "metadata": {},
   "outputs": [
    {
     "data": {
      "text/plain": [
       "'Mumbai is the financial capital of India, home to the Bombay Stock Exchange, Reserve Bank of India, and many multinational corporations. It is also the heart of India’s film industry, Bollywood, which has gained global recognition.'"
      ]
     },
     "execution_count": 13,
     "metadata": {},
     "output_type": "execute_result"
    }
   ],
   "source": [
    "retriever = db.as_retriever()\n",
    "results = retriever.invoke(query)\n",
    "results[0].page_content"
   ]
  },
  {
   "cell_type": "markdown",
   "metadata": {},
   "source": [
    "## Similaratity Search with Score\n",
    "There are some FAIIS specific methods, one of them is similarity_search_with_score, which allows you to return not only the documents but also the distance score of the query to them. The returned distance score is L2 distance. hence lower the score means document is similart to query "
   ]
  },
  {
   "cell_type": "code",
   "execution_count": 17,
   "metadata": {},
   "outputs": [
    {
     "name": "stdout",
     "output_type": "stream",
     "text": [
      "Which city is 'City of Dreams'?\n"
     ]
    },
    {
     "data": {
      "text/plain": [
       "[(Document(id='dc7835ef-156c-412f-a376-57bc1812ebc2', metadata={'source': './../4-Embedding/Speech1.txt'}, page_content='Mumbai is the financial capital of India, home to the Bombay Stock Exchange, Reserve Bank of India, and many multinational corporations. It is also the heart of India’s film industry, Bollywood, which has gained global recognition.'),\n",
       "  3347.46),\n",
       " (Document(id='12ba1b97-c1c7-4ef9-8e9d-18afddcb8f8b', metadata={'source': './../4-Embedding/Speech1.txt'}, page_content='The city’s energy, opportunities, and sense of belonging make it a dream destination for many. As the saying goes, “If you can survive in Mumbai, you can survive anywhere in the world.”'),\n",
       "  3366.045),\n",
       " (Document(id='9d88bf81-a373-49c3-9565-10a5d92f55d5', metadata={'source': './../4-Embedding/Speech1.txt'}, page_content='Today, I want to talk about Mumbai, a city that never sleeps and is often called the \"City of Dreams.\" Located on the western coast of India, Mumbai is not just a city; it’s an emotion for millions of people.'),\n",
       "  3418.7673),\n",
       " (Document(id='3ba743c3-0d54-4a26-9832-3456e1161061', metadata={'source': './../4-Embedding/Speech1.txt'}, page_content='This vibrant city is known for its rich history, iconic landmarks like the Gateway of India, Marine Drive, and Chhatrapati Shivaji Maharaj Terminus, a UNESCO World Heritage Site. The bustling streets, local trains, and the delicious street food reflect the spirit of the city – fast-paced yet welcoming.'),\n",
       "  3536.29)]"
      ]
     },
     "execution_count": 17,
     "metadata": {},
     "output_type": "execute_result"
    }
   ],
   "source": [
    "print(query)\n",
    "results_with_similarity = db.similarity_search_with_score(query)\n",
    "results_with_similarity"
   ]
  }
 ],
 "metadata": {
  "kernelspec": {
   "display_name": "myenv_new",
   "language": "python",
   "name": "python3"
  },
  "language_info": {
   "codemirror_mode": {
    "name": "ipython",
    "version": 3
   },
   "file_extension": ".py",
   "mimetype": "text/x-python",
   "name": "python",
   "nbconvert_exporter": "python",
   "pygments_lexer": "ipython3",
   "version": "3.10.16"
  }
 },
 "nbformat": 4,
 "nbformat_minor": 2
}
