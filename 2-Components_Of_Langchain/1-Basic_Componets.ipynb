{
 "cells": [
  {
   "cell_type": "markdown",
   "metadata": {},
   "source": [
    "### Basic Components Of Langchain: ChatPromptTemplate and llm and StrOutputParser\n",
    "\n",
    "- 1) ChatPromptTemplate\n",
    "- 2) Create Chain\n",
    "- 3) StrOutput Parser"
   ]
  },
  {
   "cell_type": "code",
   "execution_count": 4,
   "metadata": {},
   "outputs": [],
   "source": [
    "import os\n",
    "from dotenv import load_dotenv\n",
    "load_dotenv()\n",
    "\n",
    "os.environ['OPENAI_API_KEY'] = os.getenv('OPENAI_API_KEY')\n",
    "os.environ['LANGSMITH_API_KEY'] = os.getenv(\"LANGSMITH_API_KEY\")\n",
    "os.environ['LANGSMITH_TRACING'] = \"true\"\n",
    "os.environ['LANGSMITH_PROJECT'] = \"Components_Of_Langchain\""
   ]
  },
  {
   "cell_type": "code",
   "execution_count": 9,
   "metadata": {},
   "outputs": [
    {
     "name": "stdout",
     "output_type": "stream",
     "text": [
      "client=<openai.resources.chat.completions.Completions object at 0x000001EED5568160> async_client=<openai.resources.chat.completions.AsyncCompletions object at 0x000001EED556A260> root_client=<openai.OpenAI object at 0x000001EED55520E0> root_async_client=<openai.AsyncOpenAI object at 0x000001EED55681C0> model_name='gpt-4o' model_kwargs={} openai_api_key=SecretStr('**********')\n"
     ]
    }
   ],
   "source": [
    "from langchain_openai import ChatOpenAI\n",
    "llm = ChatOpenAI(model=\"gpt-4o\")\n",
    "print(llm)"
   ]
  },
  {
   "cell_type": "markdown",
   "metadata": {},
   "source": [
    "#### Input and Response from LLM"
   ]
  },
  {
   "cell_type": "code",
   "execution_count": 14,
   "metadata": {},
   "outputs": [
    {
     "data": {
      "text/plain": [
       "AIMessage(content=\"India is a vibrant tapestry of cultures, languages, and traditions, with over 2,000 distinct ethnic groups and more than 19,500 languages and dialects spoken across the country. It's home to some of the world's oldest civilizations, including the Indus Valley, and boasts remarkable architectural wonders like the Taj Mahal. The country is a biodiversity hotspot, featuring diverse ecosystems ranging from the Himalayas to tropical rainforests. India is renowned for its contributions to art, science, and literature, with figures like Rabindranath Tagore and Satyajit Ray gaining global acclaim. Additionally, it has a rapidly growing economy, driven by sectors like information technology, automotive, and telecommunications.\", additional_kwargs={'refusal': None}, response_metadata={'token_usage': {'completion_tokens': 140, 'prompt_tokens': 17, 'total_tokens': 157, 'completion_tokens_details': {'accepted_prediction_tokens': 0, 'audio_tokens': 0, 'reasoning_tokens': 0, 'rejected_prediction_tokens': 0}, 'prompt_tokens_details': {'audio_tokens': 0, 'cached_tokens': 0}}, 'model_name': 'gpt-4o-2024-08-06', 'system_fingerprint': 'fp_50cad350e4', 'finish_reason': 'stop', 'logprobs': None}, id='run-1c667666-5338-440d-8a75-87b13586cf9c-0', usage_metadata={'input_tokens': 17, 'output_tokens': 140, 'total_tokens': 157, 'input_token_details': {'audio': 0, 'cache_read': 0}, 'output_token_details': {'audio': 0, 'reasoning': 0}})"
      ]
     },
     "execution_count": 14,
     "metadata": {},
     "output_type": "execute_result"
    }
   ],
   "source": [
    "result = llm.invoke(\"Tell me interesting things about India in 5 lines\")\n",
    "result"
   ]
  },
  {
   "cell_type": "code",
   "execution_count": 15,
   "metadata": {},
   "outputs": [
    {
     "name": "stdout",
     "output_type": "stream",
     "text": [
      "India is a vibrant tapestry of cultures, languages, and traditions, with over 2,000 distinct ethnic groups and more than 19,500 languages and dialects spoken across the country. It's home to some of the world's oldest civilizations, including the Indus Valley, and boasts remarkable architectural wonders like the Taj Mahal. The country is a biodiversity hotspot, featuring diverse ecosystems ranging from the Himalayas to tropical rainforests. India is renowned for its contributions to art, science, and literature, with figures like Rabindranath Tagore and Satyajit Ray gaining global acclaim. Additionally, it has a rapidly growing economy, driven by sectors like information technology, automotive, and telecommunications.\n"
     ]
    }
   ],
   "source": [
    "print(result.content)"
   ]
  },
  {
   "cell_type": "markdown",
   "metadata": {},
   "source": [
    "#### Chatprompt Template"
   ]
  },
  {
   "cell_type": "code",
   "execution_count": 19,
   "metadata": {},
   "outputs": [
    {
     "name": "stdout",
     "output_type": "stream",
     "text": [
      "input_variables=['input'] input_types={} partial_variables={} messages=[SystemMessagePromptTemplate(prompt=PromptTemplate(input_variables=[], input_types={}, partial_variables={}, template='You are expert healthcare advisor. Give us information and answer as per questions or input from user'), additional_kwargs={}), HumanMessagePromptTemplate(prompt=PromptTemplate(input_variables=['input'], input_types={}, partial_variables={}, template='{input}'), additional_kwargs={})]\n"
     ]
    }
   ],
   "source": [
    "from langchain_core.prompts import ChatPromptTemplate\n",
    "prompt = ChatPromptTemplate.from_messages(\n",
    "    [\n",
    "        (\"system\",\"You are expert healthcare advisor. Give us information and answer as per questions or input from user\"),\n",
    "        (\"user\",\"{input}\")\n",
    "    ]\n",
    ")\n",
    "\n",
    "print(prompt)"
   ]
  },
  {
   "cell_type": "markdown",
   "metadata": {},
   "source": [
    "#### Create Chain"
   ]
  },
  {
   "cell_type": "code",
   "execution_count": 23,
   "metadata": {},
   "outputs": [
    {
     "name": "stdout",
     "output_type": "stream",
     "text": [
      "content='Weight loss involves a combination of dietary changes, physical activity, and lifestyle adjustments. Here are some general guidelines to help you achieve your weight-loss goals:\\n\\n1. **Set Realistic Goals**: Aim for a gradual and steady weight loss of 1 to 2 pounds per week, which is considered healthy and sustainable.\\n\\n2. **Healthy Eating**:\\n   - **Balanced Diet**: Focus on consuming a variety of foods, including vegetables, fruits, whole grains, lean proteins, and healthy fats.\\n   - **Portion Control**: Be mindful of portion sizes. Use smaller plates and avoid eating directly from the package.\\n   - **Limit Processed Foods**: Reduce intake of sugar-sweetened beverages, fast food, and highly processed snacks.\\n   - **Read Labels**: Pay attention to nutrition information on food packaging to make healthier choices.\\n\\n3. **Increase Physical Activity**:\\n   - **Cardio**: Engage in at least 150 minutes of moderate-intensity or 75 minutes of high-intensity aerobic exercise per week.\\n   - **Strength Training**: Incorporate strength training exercises at least twice a week to build muscle, which can increase metabolism.\\n\\n4. **Behavioral Changes**:\\n   - **Mindful Eating**: Eat slowly, savor each bite, and pay attention to hunger and fullness cues.\\n   - **Stay Hydrated**: Drink plenty of water throughout the day to stay hydrated and help control hunger.\\n   - **Sleep and Stress Management**: Ensure sufficient sleep (7-9 hours per night) and manage stress through techniques like meditation, yoga, or deep breathing exercises.\\n\\n5. **Monitor and Adjust**:\\n   - **Track Progress**: Keep a journal or use an app to track your food intake, exercise, and weight changes.\\n   - **Evaluate and Adapt**: Regularly assess your progress and be willing to adjust your plan if necessary.\\n\\n6. **Seek Professional Advice**: Consider consulting a healthcare professional, such as a dietitian or a doctor, for personalized advice and guidance.\\n\\nRemember, what works for one person might not work for another, so it’s important to find a balanced approach that fits your lifestyle and needs.' additional_kwargs={'refusal': None} response_metadata={'token_usage': {'completion_tokens': 443, 'prompt_tokens': 37, 'total_tokens': 480, 'completion_tokens_details': {'accepted_prediction_tokens': 0, 'audio_tokens': 0, 'reasoning_tokens': 0, 'rejected_prediction_tokens': 0}, 'prompt_tokens_details': {'audio_tokens': 0, 'cached_tokens': 0}}, 'model_name': 'gpt-4o-2024-08-06', 'system_fingerprint': 'fp_50cad350e4', 'finish_reason': 'stop', 'logprobs': None} id='run-8eaa599b-0bf3-441f-b6e3-b32189cab6b6-0' usage_metadata={'input_tokens': 37, 'output_tokens': 443, 'total_tokens': 480, 'input_token_details': {'audio': 0, 'cache_read': 0}, 'output_token_details': {'audio': 0, 'reasoning': 0}}\n"
     ]
    }
   ],
   "source": [
    "chain = prompt | llm\n",
    "\n",
    "response = chain.invoke({\"input\":\"What should I do for weight loss?\"})\n",
    "print(response)"
   ]
  },
  {
   "cell_type": "code",
   "execution_count": 21,
   "metadata": {},
   "outputs": [
    {
     "data": {
      "text/plain": [
       "langchain_core.messages.ai.AIMessage"
      ]
     },
     "execution_count": 21,
     "metadata": {},
     "output_type": "execute_result"
    }
   ],
   "source": [
    "type(response)"
   ]
  },
  {
   "cell_type": "markdown",
   "metadata": {},
   "source": [
    "#### Stroutput Parser"
   ]
  },
  {
   "cell_type": "code",
   "execution_count": 22,
   "metadata": {},
   "outputs": [
    {
     "name": "stdout",
     "output_type": "stream",
     "text": [
      "Losing weight typically involves a combination of dietary changes, physical activity, and lifestyle adjustments. Here are some general guidelines to help you get started on your weight loss journey:\n",
      "\n",
      "1. **Set Realistic Goals**: Aim for gradual weight loss. A safe and sustainable target is about 1 to 2 pounds per week.\n",
      "\n",
      "2. **Healthy Eating Habits**:\n",
      "   - **Balanced Diet**: Focus on a balanced diet that includes plenty of fruits, vegetables, lean proteins, and whole grains.\n",
      "   - **Portion Control**: Be mindful of portion sizes to avoid overeating.\n",
      "   - **Limit Processed Foods**: Reduce consumption of processed foods, sugar, and high-fat foods.\n",
      "   - **Stay Hydrated**: Drink plenty of water throughout the day, which can help manage hunger.\n",
      "   - **Mindful Eating**: Pay attention to what you eat, savor your food, and avoid distractions during meals.\n",
      "\n",
      "3. **Regular Physical Activity**:\n",
      "   - **Exercise Routine**: Engage in regular exercise, including both aerobic (like walking, cycling, or swimming) and strength training activities.\n",
      "   - **Consistency**: Aim for at least 150 minutes of moderate-intensity exercise per week.\n",
      "\n",
      "4. **Lifestyle Changes**:\n",
      "   - **Sleep**: Ensure adequate and quality sleep, as lack of sleep can affect hunger hormones and weight management.\n",
      "   - **Stress Management**: Manage stress through mindfulness, meditation, or other relaxing activities, as stress can lead to overeating.\n",
      "   - **Accountability**: Consider joining a support group, using weight loss apps, or working with a nutritionist or personal trainer.\n",
      "\n",
      "5. **Monitor Progress**:\n",
      "   - Keep a food diary to track what you eat and your physical activity.\n",
      "   - Regularly weigh yourself, but don’t obsess over daily fluctuations.\n",
      "\n",
      "6. **Professional Guidance**: \n",
      "   - Consult with a healthcare provider, dietitian, or nutritionist for personalized advice, especially if you have medical conditions or need specific dietary adjustments.\n",
      "\n",
      "Remember, weight loss is a personal journey, and what works for one person may not work for another. Patience and persistence are key.\n"
     ]
    }
   ],
   "source": [
    "from langchain_core.output_parsers import StrOutputParser\n",
    "output_parser = StrOutputParser()\n",
    "chain = prompt|llm|output_parser\n",
    "\n",
    "response = chain.invoke({\"input\":\"What should I do for weight loss?\"})\n",
    "print(response)"
   ]
  },
  {
   "cell_type": "code",
   "execution_count": null,
   "metadata": {},
   "outputs": [],
   "source": []
  }
 ],
 "metadata": {
  "kernelspec": {
   "display_name": "myenv_lang",
   "language": "python",
   "name": "python3"
  },
  "language_info": {
   "codemirror_mode": {
    "name": "ipython",
    "version": 3
   },
   "file_extension": ".py",
   "mimetype": "text/x-python",
   "name": "python",
   "nbconvert_exporter": "python",
   "pygments_lexer": "ipython3",
   "version": "3.10.16"
  }
 },
 "nbformat": 4,
 "nbformat_minor": 2
}
