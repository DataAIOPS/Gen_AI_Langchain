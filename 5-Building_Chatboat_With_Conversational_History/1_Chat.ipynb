{
 "cells": [
  {
   "cell_type": "markdown",
   "metadata": {},
   "source": []
  },
  {
   "cell_type": "code",
   "execution_count": 1,
   "metadata": {},
   "outputs": [
    {
     "name": "stdout",
     "output_type": "stream",
     "text": [
      "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\n"
     ]
    }
   ],
   "source": [
    "import os\n",
    "from dotenv import load_dotenv\n",
    "load_dotenv()\n",
    "\n",
    "GROQ_API_KEY = os.getenv(\"GROQ_API_KEY\")\n",
    "print(GROQ_API_KEY)\n"
   ]
  },
  {
   "cell_type": "code",
   "execution_count": 2,
   "metadata": {},
   "outputs": [
    {
     "data": {
      "text/plain": [
       "ChatGroq(client=<groq.resources.chat.completions.Completions object at 0x000002665D44CBE0>, async_client=<groq.resources.chat.completions.AsyncCompletions object at 0x000002665D44D7B0>, model_name='Gemma2-9b-It', model_kwargs={}, groq_api_key=SecretStr('**********'))"
      ]
     },
     "execution_count": 2,
     "metadata": {},
     "output_type": "execute_result"
    }
   ],
   "source": [
    "from langchain_groq import ChatGroq\n",
    "model = ChatGroq(model=\"Gemma2-9b-It\",groq_api_key=GROQ_API_KEY)\n",
    "model"
   ]
  },
  {
   "cell_type": "code",
   "execution_count": 4,
   "metadata": {},
   "outputs": [
    {
     "data": {
      "text/plain": [
       "AIMessage(content=\"Hi Rahul, it's nice to meet you! 👋 \\n\\nHow can I help you today? 😊\\n\", additional_kwargs={}, response_metadata={'token_usage': {'completion_tokens': 25, 'prompt_tokens': 14, 'total_tokens': 39, 'completion_time': 0.045454545, 'prompt_time': 8.8309e-05, 'queue_time': 0.020284991, 'total_time': 0.045542854}, 'model_name': 'Gemma2-9b-It', 'system_fingerprint': 'fp_10c08bf97d', 'finish_reason': 'stop', 'logprobs': None}, id='run-d100a067-b22d-4b0b-b8de-40807b22b971-0', usage_metadata={'input_tokens': 14, 'output_tokens': 25, 'total_tokens': 39})"
      ]
     },
     "execution_count": 4,
     "metadata": {},
     "output_type": "execute_result"
    }
   ],
   "source": [
    "from langchain_core.messages import HumanMessage\n",
    "model.invoke([HumanMessage(content=\"Hi My name is Rahul\")])"
   ]
  },
  {
   "cell_type": "code",
   "execution_count": 6,
   "metadata": {},
   "outputs": [
    {
     "data": {
      "text/plain": [
       "AIMessage(content='Your name is Rahul. 😊  I remembered!  \\n\\nIs there anything else I can help you with?\\n', additional_kwargs={}, response_metadata={'token_usage': {'completion_tokens': 25, 'prompt_tokens': 54, 'total_tokens': 79, 'completion_time': 0.045454545, 'prompt_time': 0.001840355, 'queue_time': 0.023533824000000002, 'total_time': 0.0472949}, 'model_name': 'Gemma2-9b-It', 'system_fingerprint': 'fp_10c08bf97d', 'finish_reason': 'stop', 'logprobs': None}, id='run-101eb38e-3376-459a-9f80-db266eb94515-0', usage_metadata={'input_tokens': 54, 'output_tokens': 25, 'total_tokens': 79})"
      ]
     },
     "execution_count": 6,
     "metadata": {},
     "output_type": "execute_result"
    }
   ],
   "source": [
    "from langchain_core.messages import AIMessage\n",
    "model.invoke(\n",
    "    [\n",
    "        HumanMessage(content=\"Hi my name is Rahul and I am a Indian\"),\n",
    "        AIMessage(content=\"Hi Rahul, it's nice to meet you! 👋 \\n\\nHow can I help you today?\"),\n",
    "        HumanMessage(content=\"Whats my name?\")\n",
    "    ]\n",
    ")\n"
   ]
  },
  {
   "cell_type": "code",
   "execution_count": 35,
   "metadata": {},
   "outputs": [],
   "source": [
    "from langchain_community.chat_message_histories import ChatMessageHistory\n",
    "from langchain_core.chat_history import BaseChatMessageHistory\n",
    "from langchain_core.runnables.history import RunnableWithMessageHistory\n",
    "\n",
    "store ={}\n",
    "\n",
    "def get_session_history(session_id:str):\n",
    "    if session_id not in store:\n",
    "        store[session_id] = ChatMessageHistory()\n",
    "    return store[session_id]"
   ]
  },
  {
   "cell_type": "code",
   "execution_count": 36,
   "metadata": {},
   "outputs": [
    {
     "data": {
      "text/plain": [
       "InMemoryChatMessageHistory(messages=[])"
      ]
     },
     "execution_count": 36,
     "metadata": {},
     "output_type": "execute_result"
    }
   ],
   "source": [
    "get_session_history(\"chat_1\")"
   ]
  },
  {
   "cell_type": "code",
   "execution_count": 37,
   "metadata": {},
   "outputs": [],
   "source": [
    "# store ={\"chat_1\":\"Message_history_1\"}\n",
    "\n",
    "def get_session_history(session_id:str):\n",
    "    if session_id not in store:\n",
    "        store[session_id] = ChatMessageHistory()\n",
    "    return store[session_id]\n",
    "\n",
    "with_message_history = RunnableWithMessageHistory(model,get_session_history)"
   ]
  },
  {
   "cell_type": "code",
   "execution_count": 38,
   "metadata": {},
   "outputs": [],
   "source": [
    "config = {\"configurable\":{\"session_id\":\"chat_2\"}}"
   ]
  },
  {
   "cell_type": "code",
   "execution_count": 39,
   "metadata": {},
   "outputs": [
    {
     "data": {
      "text/plain": [
       "AIMessage(content=\"Hello Rahul, it's nice to meet you!\\n\\nI'm glad to know you're from India.  Is there anything I can help you with today?  Perhaps you'd like to:\\n\\n* **Learn about Indian culture?**\\n* **Get information about a specific place in India?**\\n* **Translate something into Hindi?**\\n* **Just chat?** \\n\\n\\nLet me know what's on your mind! 😊 \\n\\n\", additional_kwargs={}, response_metadata={'token_usage': {'completion_tokens': 99, 'prompt_tokens': 19, 'total_tokens': 118, 'completion_time': 0.18, 'prompt_time': 7.762e-05, 'queue_time': 0.02064663, 'total_time': 0.18007762}, 'model_name': 'Gemma2-9b-It', 'system_fingerprint': 'fp_10c08bf97d', 'finish_reason': 'stop', 'logprobs': None}, id='run-26aca7ce-41c3-49e8-af08-785c90845fb9-0', usage_metadata={'input_tokens': 19, 'output_tokens': 99, 'total_tokens': 118})"
      ]
     },
     "execution_count": 39,
     "metadata": {},
     "output_type": "execute_result"
    }
   ],
   "source": [
    "with_message_history.invoke(\n",
    "    [HumanMessage(content=\"Hi my name is Rahul and I am a Indian\")],\n",
    "    config=config\n",
    ")"
   ]
  },
  {
   "cell_type": "code",
   "execution_count": 29,
   "metadata": {},
   "outputs": [
    {
     "data": {
      "text/plain": [
       "AIMessage(content='Your name is Rahul, you told me earlier!  😊  \\n\\nDo you have any other questions I can help you with? \\n', additional_kwargs={}, response_metadata={'token_usage': {'completion_tokens': 30, 'prompt_tokens': 108, 'total_tokens': 138, 'completion_time': 0.054545455, 'prompt_time': 0.003315949, 'queue_time': 0.02304733, 'total_time': 0.057861404}, 'model_name': 'Gemma2-9b-It', 'system_fingerprint': 'fp_10c08bf97d', 'finish_reason': 'stop', 'logprobs': None}, id='run-9a8440a2-4e89-44e3-96b7-e31051fd6a27-0', usage_metadata={'input_tokens': 108, 'output_tokens': 30, 'total_tokens': 138})"
      ]
     },
     "execution_count": 29,
     "metadata": {},
     "output_type": "execute_result"
    }
   ],
   "source": [
    "with_message_history.invoke(\n",
    "    [HumanMessage(content=\"What is my name\")],\n",
    "    config=config\n",
    ")"
   ]
  },
  {
   "cell_type": "code",
   "execution_count": 41,
   "metadata": {},
   "outputs": [
    {
     "data": {
      "text/plain": [
       "AIMessage(content=\"Bonjour Rakesh! \\n\\nIt's nice to meet you.  \\n\\nIs there anything you'd like to talk about today? Perhaps you want to practice your French, or maybe you have a question about France?  😊 \\n\\n\", additional_kwargs={}, response_metadata={'token_usage': {'completion_tokens': 52, 'prompt_tokens': 20, 'total_tokens': 72, 'completion_time': 0.094545455, 'prompt_time': 8.846e-05, 'queue_time': 0.023395109, 'total_time': 0.094633915}, 'model_name': 'Gemma2-9b-It', 'system_fingerprint': 'fp_10c08bf97d', 'finish_reason': 'stop', 'logprobs': None}, id='run-abb566f7-7f82-49e1-ad32-29e90fd1dc26-0', usage_metadata={'input_tokens': 20, 'output_tokens': 52, 'total_tokens': 72})"
      ]
     },
     "execution_count": 41,
     "metadata": {},
     "output_type": "execute_result"
    }
   ],
   "source": [
    "config1 = {\"configurable\":{\"session_id\":\"chat_3\"}}\n",
    "\n",
    "with_message_history.invoke(\n",
    "    [HumanMessage(content=\"Hi my name is Rakesh and I am a French\")],\n",
    "    config=config1\n",
    ")"
   ]
  },
  {
   "cell_type": "code",
   "execution_count": 32,
   "metadata": {},
   "outputs": [
    {
     "data": {
      "text/plain": [
       "AIMessage(content='Your name is Rakesh.  😊  I remember!  \\n\\n\\nIs there anything else I can help you with?\\n', additional_kwargs={}, response_metadata={'token_usage': {'completion_tokens': 27, 'prompt_tokens': 86, 'total_tokens': 113, 'completion_time': 0.049090909, 'prompt_time': 0.002723052, 'queue_time': 0.022450057, 'total_time': 0.051813961}, 'model_name': 'Gemma2-9b-It', 'system_fingerprint': 'fp_10c08bf97d', 'finish_reason': 'stop', 'logprobs': None}, id='run-2e39e6a6-7dfa-45d7-8220-0fa0cb6a5af4-0', usage_metadata={'input_tokens': 86, 'output_tokens': 27, 'total_tokens': 113})"
      ]
     },
     "execution_count": 32,
     "metadata": {},
     "output_type": "execute_result"
    }
   ],
   "source": [
    "with_message_history.invoke(\n",
    "    [HumanMessage(content=\"what is my name?\")],\n",
    "    config=config1\n",
    ")"
   ]
  },
  {
   "cell_type": "code",
   "execution_count": 43,
   "metadata": {},
   "outputs": [
    {
     "data": {
      "text/plain": [
       "AIMessage(content='Your name is Rahul.  \\n\\nI remember that you told me at the beginning of our conversation. 😊 \\n\\n\\n\\n', additional_kwargs={}, response_metadata={'token_usage': {'completion_tokens': 26, 'prompt_tokens': 130, 'total_tokens': 156, 'completion_time': 0.047272727, 'prompt_time': 0.004860715, 'queue_time': 0.021194814, 'total_time': 0.052133442}, 'model_name': 'Gemma2-9b-It', 'system_fingerprint': 'fp_10c08bf97d', 'finish_reason': 'stop', 'logprobs': None}, id='run-c1b85bb2-986a-4ab3-8280-1887500955e3-0', usage_metadata={'input_tokens': 130, 'output_tokens': 26, 'total_tokens': 156})"
      ]
     },
     "execution_count": 43,
     "metadata": {},
     "output_type": "execute_result"
    }
   ],
   "source": [
    "with_message_history.invoke(\n",
    "    [HumanMessage(content=\"what is my name?\")],\n",
    "    config=config\n",
    ")"
   ]
  },
  {
   "cell_type": "code",
   "execution_count": 44,
   "metadata": {},
   "outputs": [
    {
     "name": "stdout",
     "output_type": "stream",
     "text": [
      "{'chat_1': InMemoryChatMessageHistory(messages=[]), 'chat_2': InMemoryChatMessageHistory(messages=[HumanMessage(content='Hi my name is Rahul and I am a Indian', additional_kwargs={}, response_metadata={}), AIMessage(content=\"Hello Rahul, it's nice to meet you!\\n\\nI'm glad to know you're from India.  Is there anything I can help you with today?  Perhaps you'd like to:\\n\\n* **Learn about Indian culture?**\\n* **Get information about a specific place in India?**\\n* **Translate something into Hindi?**\\n* **Just chat?** \\n\\n\\nLet me know what's on your mind! 😊 \\n\\n\", additional_kwargs={}, response_metadata={'token_usage': {'completion_tokens': 99, 'prompt_tokens': 19, 'total_tokens': 118, 'completion_time': 0.18, 'prompt_time': 7.762e-05, 'queue_time': 0.02064663, 'total_time': 0.18007762}, 'model_name': 'Gemma2-9b-It', 'system_fingerprint': 'fp_10c08bf97d', 'finish_reason': 'stop', 'logprobs': None}, id='run-26aca7ce-41c3-49e8-af08-785c90845fb9-0', usage_metadata={'input_tokens': 19, 'output_tokens': 99, 'total_tokens': 118}), HumanMessage(content='what is my name?', additional_kwargs={}, response_metadata={}), AIMessage(content='Your name is Rahul.  \\n\\nI remember that you told me at the beginning of our conversation. 😊 \\n\\n\\n\\n', additional_kwargs={}, response_metadata={'token_usage': {'completion_tokens': 26, 'prompt_tokens': 130, 'total_tokens': 156, 'completion_time': 0.047272727, 'prompt_time': 0.004860715, 'queue_time': 0.021194814, 'total_time': 0.052133442}, 'model_name': 'Gemma2-9b-It', 'system_fingerprint': 'fp_10c08bf97d', 'finish_reason': 'stop', 'logprobs': None}, id='run-c1b85bb2-986a-4ab3-8280-1887500955e3-0', usage_metadata={'input_tokens': 130, 'output_tokens': 26, 'total_tokens': 156})]), 'chat_3': InMemoryChatMessageHistory(messages=[HumanMessage(content='Hi my name is Rakesh and I am a French', additional_kwargs={}, response_metadata={}), AIMessage(content=\"Bonjour Rakesh! \\n\\nIt's nice to meet you.  \\n\\nIs there anything you'd like to talk about today? Perhaps you want to practice your French, or maybe you have a question about France?  😊 \\n\\n\", additional_kwargs={}, response_metadata={'token_usage': {'completion_tokens': 52, 'prompt_tokens': 20, 'total_tokens': 72, 'completion_time': 0.094545455, 'prompt_time': 8.846e-05, 'queue_time': 0.023395109, 'total_time': 0.094633915}, 'model_name': 'Gemma2-9b-It', 'system_fingerprint': 'fp_10c08bf97d', 'finish_reason': 'stop', 'logprobs': None}, id='run-abb566f7-7f82-49e1-ad32-29e90fd1dc26-0', usage_metadata={'input_tokens': 20, 'output_tokens': 52, 'total_tokens': 72})])}\n"
     ]
    }
   ],
   "source": [
    "print(store)"
   ]
  },
  {
   "cell_type": "code",
   "execution_count": null,
   "metadata": {},
   "outputs": [],
   "source": []
  }
 ],
 "metadata": {
  "kernelspec": {
   "display_name": "myenv_chat",
   "language": "python",
   "name": "python3"
  },
  "language_info": {
   "codemirror_mode": {
    "name": "ipython",
    "version": 3
   },
   "file_extension": ".py",
   "mimetype": "text/x-python",
   "name": "python",
   "nbconvert_exporter": "python",
   "pygments_lexer": "ipython3",
   "version": "3.10.16"
  }
 },
 "nbformat": 4,
 "nbformat_minor": 2
}
